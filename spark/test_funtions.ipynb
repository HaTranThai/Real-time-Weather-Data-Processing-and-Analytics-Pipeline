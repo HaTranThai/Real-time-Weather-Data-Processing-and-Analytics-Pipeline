{
 "cells": [
  {
   "cell_type": "code",
   "execution_count": 6,
   "metadata": {},
   "outputs": [
    {
     "data": {
      "text/html": [
       "\n",
       "            <div>\n",
       "                <p><b>SparkSession - in-memory</b></p>\n",
       "                \n",
       "        <div>\n",
       "            <p><b>SparkContext</b></p>\n",
       "\n",
       "            <p><a href=\"http://192.168.11.1:4040\">Spark UI</a></p>\n",
       "\n",
       "            <dl>\n",
       "              <dt>Version</dt>\n",
       "                <dd><code>v3.5.1</code></dd>\n",
       "              <dt>Master</dt>\n",
       "                <dd><code>local[*]</code></dd>\n",
       "              <dt>AppName</dt>\n",
       "                <dd><code>JSON to DataFrame</code></dd>\n",
       "            </dl>\n",
       "        </div>\n",
       "        \n",
       "            </div>\n",
       "        "
      ],
      "text/plain": [
       "<pyspark.sql.session.SparkSession at 0x2819e8363d0>"
      ]
     },
     "execution_count": 6,
     "metadata": {},
     "output_type": "execute_result"
    }
   ],
   "source": [
    "from pyspark.sql import SparkSession\n",
    "from pyspark.sql.types import (\n",
    "    StructType, StructField, DoubleType, IntegerType, StringType, ArrayType, LongType\n",
    ")\n",
    "from pyspark.sql.functions import col, from_unixtime, date_format\n",
    "from pyspark.sql.functions import col, expr\n",
    "from schema import schema\n",
    "from Project.spark.select import current_select, airpollution_select\n",
    "\n",
    "spark = SparkSession.builder.appName(\"JSON to DataFrame\").getOrCreate()\n",
    "\n",
    "curr = schema[\"Current_data\"]\n",
    "air = schema[\"Air_pollution_data\"]\n",
    "\n",
    "spark"
   ]
  },
  {
   "cell_type": "code",
   "execution_count": 7,
   "metadata": {},
   "outputs": [
    {
     "name": "stdout",
     "output_type": "stream",
     "text": [
      "+---------+---------+----------+------------+-------------------+------------+--------+---------+---------------+-------------+-------------+-------------+-------------+--------------+---------------+----------+----------+--------+---------+----------+-------------------+-------+-------------------+-------------------+--------+-------+------------+\n",
      "|coord.lat|coord.lon|weather.id|weather.main|weather.description|weather.icon|base    |main.temp|main.feels_like|main.temp_min|main.temp_max|main.pressure|main.humidity|main.sea_level|main.grnd_level|visibility|wind.speed|wind.deg|wind.gust|clouds.all|dt                 |country|sunrise            |sunset             |timezone|id     |name        |\n",
      "+---------+---------+----------+------------+-------------------+------------+--------+---------+---------------+-------------+-------------+-------------+-------------+--------------+---------------+----------+----------+--------+---------+----------+-------------------+-------+-------------------+-------------------+--------+-------+------------+\n",
      "|19.3333  |104.8333 |804       |Clouds      |mây đen u ám       |04d         |stations|292.4    |291.95         |292.4        |292.4        |1013         |60           |1013          |959            |10000     |1.38      |131     |1.93     |100       |2025-01-20 16:17:27|VN     |2025-01-20 06:37:14|2025-01-20 17:45:38|25200   |1559969|Tinh Nghe An|\n",
      "|19.3333  |104.8333 |804       |Clouds      |mây đen u ám       |04d         |stations|292.4    |291.95         |292.4        |292.4        |1013         |60           |1013          |959            |10000     |1.38      |131     |1.93     |100       |2025-01-20 16:17:27|VN     |2025-01-20 06:37:14|2025-01-20 17:45:38|25200   |1559969|Tinh Nghe An|\n",
      "+---------+---------+----------+------------+-------------------+------------+--------+---------+---------------+-------------+-------------+-------------+-------------+--------------+---------------+----------+----------+--------+---------+----------+-------------------+-------+-------------------+-------------------+--------+-------+------------+\n",
      "\n"
     ]
    }
   ],
   "source": [
    "\n",
    "\n",
    "file_path = \"C:/Users/ha200/MyWork/Self-Study/STUDY_SPARK/data_current.json\"\n",
    "\n",
    "df = spark.read.schema(curr).option(\"multiline\", \"true\").json(file_path)\n",
    "\n",
    "flat_df = current_select(df)\n",
    "\n",
    "flat_df = flat_df.withColumn(\"dt\", from_unixtime(col(\"dt\")).cast(\"timestamp\"))\n",
    "flat_df = flat_df.withColumn(\"sunrise\", from_unixtime(col(\"sunrise\")).cast(\"timestamp\"))\n",
    "flat_df = flat_df.withColumn(\"sunset\", from_unixtime(col(\"sunset\")).cast(\"timestamp\"))\n",
    "\n",
    "flat_df.show(5, truncate=False)\n"
   ]
  },
  {
   "cell_type": "code",
   "execution_count": 8,
   "metadata": {},
   "outputs": [
    {
     "name": "stdout",
     "output_type": "stream",
     "text": [
      "+---------+---------+-------------+------------------+------------------+-------------------+------------------+-------------------+---------------------+--------------------+-------------------+-------------------+\n",
      "|coord.lat|coord.lon|list.main.aqi|list.components.co|list.components.no|list.components.no2|list.components.o3|list.components.so2|list.components.pm2_5|list.components.pm10|list.components.nh3|dt                 |\n",
      "+---------+---------+-------------+------------------+------------------+-------------------+------------------+-------------------+---------------------+--------------------+-------------------+-------------------+\n",
      "|19.3333  |104.8333 |3            |303.75            |0.05              |0.57               |50.07             |0.44               |27.15                |30.02               |0.23               |2024-12-07 12:19:00|\n",
      "+---------+---------+-------------+------------------+------------------+-------------------+------------------+-------------------+---------------------+--------------------+-------------------+-------------------+\n",
      "\n"
     ]
    }
   ],
   "source": [
    "\n",
    "\n",
    "file_path = \"C:/Users/ha200/MyWork/Self-Study/STUDY_SPARK/data_pollution.json\"\n",
    "\n",
    "df = spark.read.schema(air).option(\"multiline\", \"true\").json(file_path)\n",
    "\n",
    "flat_df = airpollution_select(df)\n",
    "\n",
    "flat_df = flat_df.withColumn(\"dt\", from_unixtime(col(\"dt\")).cast(\"timestamp\"))\n",
    "\n",
    "flat_df.show(5, truncate=False)\n"
   ]
  },
  {
   "cell_type": "code",
   "execution_count": 9,
   "metadata": {},
   "outputs": [],
   "source": [
    "spark.stop()"
   ]
  }
 ],
 "metadata": {
  "kernelspec": {
   "display_name": "study_dagster",
   "language": "python",
   "name": "python3"
  },
  "language_info": {
   "codemirror_mode": {
    "name": "ipython",
    "version": 3
   },
   "file_extension": ".py",
   "mimetype": "text/x-python",
   "name": "python",
   "nbconvert_exporter": "python",
   "pygments_lexer": "ipython3",
   "version": "3.11.9"
  }
 },
 "nbformat": 4,
 "nbformat_minor": 2
}
