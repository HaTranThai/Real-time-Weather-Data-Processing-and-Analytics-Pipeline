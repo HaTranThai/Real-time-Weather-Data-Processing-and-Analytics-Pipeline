{
 "cells": [
  {
   "cell_type": "code",
   "execution_count": null,
   "metadata": {},
   "outputs": [],
   "source": [
    "import pandas as pd\n",
    "import boto3\n",
    "from io import BytesIO\n",
    "\n",
    "# Dữ liệu của bạn dưới dạng DataFrame\n",
    "data = {\n",
    "    'coord.lat': [19.3333],\n",
    "    'coord.lon': [104.8333],\n",
    "    'weather.id': [804],\n",
    "    'weather.main': ['Clouds'],\n",
    "    'weather.description': ['mây đen u ám'],\n",
    "    'weather.icon': ['04d'],\n",
    "    'base': ['stations'],\n",
    "    'main.temp': [292.4],\n",
    "    'main.feels_like': [291.95],\n",
    "    'main.temp_min': [292.4],\n",
    "    'main.temp_max': [292.4],\n",
    "    'main.pressure': [1013],\n",
    "    'main.humidity': [60],\n",
    "    'main.sea_level': [1013],\n",
    "    'main.grnd_level': [959],\n",
    "    'visibility': [10000],\n",
    "    'wind.speed': [1.38],\n",
    "    'wind.deg': [131],\n",
    "    'wind.gust': [1.93],\n",
    "    'clouds.all': [100],\n",
    "    'dt': ['2025-01-20 16:17:27'],\n",
    "    'country': ['VN'],\n",
    "    'sunrise': ['2025-01-20 06:37:14'],\n",
    "    'sunset': ['2025-01-20 17:45:38'],\n",
    "    'timezone': [25200],\n",
    "    'id': [1559969],\n",
    "    'name': ['Tinh Nghe An']\n",
    "}\n",
    "\n",
    "# Tạo DataFrame từ dữ liệu\n",
    "df = pd.DataFrame(data)\n",
    "\n",
    "# Chuyển đổi DataFrame thành Parquet\n",
    "parquet_buffer = BytesIO()\n",
    "df.to_parquet(parquet_buffer, engine='pyarrow')\n",
    "\n",
    "# Upload dữ liệu Parquet lên S3\n",
    "s3_client = boto3.client('s3')\n",
    "\n",
    "# Xác định tên bucket và tên tệp trên S3\n",
    "bucket_name = 'weather-data-hatran'\n",
    "file_name = 'output-data/Current_data/test_1.parquet'\n",
    "\n",
    "# Tải lên S3\n",
    "parquet_buffer.seek(0)\n",
    "s3_client.upload_fileobj(parquet_buffer, bucket_name, file_name)\n",
    "\n",
    "print(f\"File {file_name} đã được tải lên S3 thành công!\")\n"
   ]
  },
  {
   "cell_type": "code",
   "execution_count": 1,
   "metadata": {},
   "outputs": [
    {
     "name": "stdout",
     "output_type": "stream",
     "text": [
      "coord.lat: double\n",
      "coord.lon: double\n",
      "weather.id: int32\n",
      "weather.main: string\n",
      "weather.description: string\n",
      "weather.icon: string\n",
      "base: string\n",
      "main.temp: double\n",
      "main.feels_like: double\n",
      "main.temp_min: double\n",
      "main.temp_max: double\n",
      "main.pressure: int32\n",
      "main.humidity: int32\n",
      "main.sea_level: int32\n",
      "main.grnd_level: int32\n",
      "visibility: int32\n",
      "wind.speed: double\n",
      "wind.deg: int32\n",
      "wind.gust: double\n",
      "clouds.all: int32\n",
      "dt: timestamp[ns]\n",
      "country: string\n",
      "sunrise: timestamp[ns]\n",
      "sunset: timestamp[ns]\n",
      "timezone: int32\n",
      "id: int64\n",
      "name: string\n",
      "-- schema metadata --\n",
      "org.apache.spark.version: '3.5.3'\n",
      "org.apache.spark.sql.parquet.row.metadata: '{\"type\":\"struct\",\"fields\":[{\"' + 1844\n"
     ]
    }
   ],
   "source": [
    "import pyarrow.parquet as pq\n",
    "table = pq.read_table('s3://weather-data-hatran/output-data/Current_data/part-00000-34422a24-fb16-4cf0-a3a5-f5042a601a94-c000.snappy.parquet')\n",
    "print(table.schema)\n"
   ]
  }
 ],
 "metadata": {
  "kernelspec": {
   "display_name": "study_dagster",
   "language": "python",
   "name": "python3"
  },
  "language_info": {
   "codemirror_mode": {
    "name": "ipython",
    "version": 3
   },
   "file_extension": ".py",
   "mimetype": "text/x-python",
   "name": "python",
   "nbconvert_exporter": "python",
   "pygments_lexer": "ipython3",
   "version": "3.11.9"
  }
 },
 "nbformat": 4,
 "nbformat_minor": 2
}
